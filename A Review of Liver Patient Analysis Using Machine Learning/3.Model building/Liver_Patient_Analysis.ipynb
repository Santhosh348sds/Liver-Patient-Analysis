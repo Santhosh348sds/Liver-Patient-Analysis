{
  "nbformat": 4,
  "nbformat_minor": 0,
  "metadata": {
    "colab": {
      "provenance": []
    },
    "kernelspec": {
      "name": "python3",
      "display_name": "Python 3"
    },
    "language_info": {
      "name": "python"
    }
  },
  "cells": [
    {
      "cell_type": "markdown",
      "source": [
        "                REVIEW OF LIVER PATIENT ANALYSIS"
      ],
      "metadata": {
        "id": "lIr7e9s8PrOP"
      }
    },
    {
      "cell_type": "markdown",
      "source": [
        "DATA COLLECTION AND PREPARATION"
      ],
      "metadata": {
        "id": "Eh1jHSyI8rOr"
      }
    },
    {
      "cell_type": "code",
      "execution_count": 1,
      "metadata": {
        "id": "-ekIC7Bis8Xg"
      },
      "outputs": [],
      "source": [
        "#importing the libraries\n",
        "import numpy as np\n",
        "import pandas as pd\n",
        "import seaborn as sns\n",
        "import matplotlib.pyplot as plt\n",
        "from matplotlib import rcParams\n",
        "from scipy import stats\n",
        "from sklearn.metrics import accuracy_score\n",
        "from sklearn.metrics import classification_report"
      ]
    },
    {
      "cell_type": "code",
      "source": [
        "#Read the Dataset\n",
        "data = pd.read_csv('/content/indian_liver_patient.csv')"
      ],
      "metadata": {
        "id": "GtV4aoIBwYTY"
      },
      "execution_count": 2,
      "outputs": []
    },
    {
      "cell_type": "code",
      "source": [
        "data.head()"
      ],
      "metadata": {
        "colab": {
          "base_uri": "https://localhost:8080/",
          "height": 270
        },
        "id": "QxDM4geNw6T8",
        "outputId": "0ee884a3-d742-4993-f926-6313333d0d52"
      },
      "execution_count": 3,
      "outputs": [
        {
          "output_type": "execute_result",
          "data": {
            "text/plain": [
              "   Age  Gender  Total_Bilirubin  Direct_Bilirubin  Alkaline_Phosphotase  \\\n",
              "0   65  Female              0.7               0.1                   187   \n",
              "1   62    Male             10.9               5.5                   699   \n",
              "2   62    Male              7.3               4.1                   490   \n",
              "3   58    Male              1.0               0.4                   182   \n",
              "4   72    Male              3.9               2.0                   195   \n",
              "\n",
              "   Alamine_Aminotransferase  Aspartate_Aminotransferase  Total_Protiens  \\\n",
              "0                        16                          18             6.8   \n",
              "1                        64                         100             7.5   \n",
              "2                        60                          68             7.0   \n",
              "3                        14                          20             6.8   \n",
              "4                        27                          59             7.3   \n",
              "\n",
              "   Albumin  Albumin_and_Globulin_Ratio  Dataset  \n",
              "0      3.3                        0.90        1  \n",
              "1      3.2                        0.74        1  \n",
              "2      3.3                        0.89        1  \n",
              "3      3.4                        1.00        1  \n",
              "4      2.4                        0.40        1  "
            ],
            "text/html": [
              "\n",
              "  <div id=\"df-82bcb400-0c64-42ac-b181-4ca93b110d3e\">\n",
              "    <div class=\"colab-df-container\">\n",
              "      <div>\n",
              "<style scoped>\n",
              "    .dataframe tbody tr th:only-of-type {\n",
              "        vertical-align: middle;\n",
              "    }\n",
              "\n",
              "    .dataframe tbody tr th {\n",
              "        vertical-align: top;\n",
              "    }\n",
              "\n",
              "    .dataframe thead th {\n",
              "        text-align: right;\n",
              "    }\n",
              "</style>\n",
              "<table border=\"1\" class=\"dataframe\">\n",
              "  <thead>\n",
              "    <tr style=\"text-align: right;\">\n",
              "      <th></th>\n",
              "      <th>Age</th>\n",
              "      <th>Gender</th>\n",
              "      <th>Total_Bilirubin</th>\n",
              "      <th>Direct_Bilirubin</th>\n",
              "      <th>Alkaline_Phosphotase</th>\n",
              "      <th>Alamine_Aminotransferase</th>\n",
              "      <th>Aspartate_Aminotransferase</th>\n",
              "      <th>Total_Protiens</th>\n",
              "      <th>Albumin</th>\n",
              "      <th>Albumin_and_Globulin_Ratio</th>\n",
              "      <th>Dataset</th>\n",
              "    </tr>\n",
              "  </thead>\n",
              "  <tbody>\n",
              "    <tr>\n",
              "      <th>0</th>\n",
              "      <td>65</td>\n",
              "      <td>Female</td>\n",
              "      <td>0.7</td>\n",
              "      <td>0.1</td>\n",
              "      <td>187</td>\n",
              "      <td>16</td>\n",
              "      <td>18</td>\n",
              "      <td>6.8</td>\n",
              "      <td>3.3</td>\n",
              "      <td>0.90</td>\n",
              "      <td>1</td>\n",
              "    </tr>\n",
              "    <tr>\n",
              "      <th>1</th>\n",
              "      <td>62</td>\n",
              "      <td>Male</td>\n",
              "      <td>10.9</td>\n",
              "      <td>5.5</td>\n",
              "      <td>699</td>\n",
              "      <td>64</td>\n",
              "      <td>100</td>\n",
              "      <td>7.5</td>\n",
              "      <td>3.2</td>\n",
              "      <td>0.74</td>\n",
              "      <td>1</td>\n",
              "    </tr>\n",
              "    <tr>\n",
              "      <th>2</th>\n",
              "      <td>62</td>\n",
              "      <td>Male</td>\n",
              "      <td>7.3</td>\n",
              "      <td>4.1</td>\n",
              "      <td>490</td>\n",
              "      <td>60</td>\n",
              "      <td>68</td>\n",
              "      <td>7.0</td>\n",
              "      <td>3.3</td>\n",
              "      <td>0.89</td>\n",
              "      <td>1</td>\n",
              "    </tr>\n",
              "    <tr>\n",
              "      <th>3</th>\n",
              "      <td>58</td>\n",
              "      <td>Male</td>\n",
              "      <td>1.0</td>\n",
              "      <td>0.4</td>\n",
              "      <td>182</td>\n",
              "      <td>14</td>\n",
              "      <td>20</td>\n",
              "      <td>6.8</td>\n",
              "      <td>3.4</td>\n",
              "      <td>1.00</td>\n",
              "      <td>1</td>\n",
              "    </tr>\n",
              "    <tr>\n",
              "      <th>4</th>\n",
              "      <td>72</td>\n",
              "      <td>Male</td>\n",
              "      <td>3.9</td>\n",
              "      <td>2.0</td>\n",
              "      <td>195</td>\n",
              "      <td>27</td>\n",
              "      <td>59</td>\n",
              "      <td>7.3</td>\n",
              "      <td>2.4</td>\n",
              "      <td>0.40</td>\n",
              "      <td>1</td>\n",
              "    </tr>\n",
              "  </tbody>\n",
              "</table>\n",
              "</div>\n",
              "      <button class=\"colab-df-convert\" onclick=\"convertToInteractive('df-82bcb400-0c64-42ac-b181-4ca93b110d3e')\"\n",
              "              title=\"Convert this dataframe to an interactive table.\"\n",
              "              style=\"display:none;\">\n",
              "        \n",
              "  <svg xmlns=\"http://www.w3.org/2000/svg\" height=\"24px\"viewBox=\"0 0 24 24\"\n",
              "       width=\"24px\">\n",
              "    <path d=\"M0 0h24v24H0V0z\" fill=\"none\"/>\n",
              "    <path d=\"M18.56 5.44l.94 2.06.94-2.06 2.06-.94-2.06-.94-.94-2.06-.94 2.06-2.06.94zm-11 1L8.5 8.5l.94-2.06 2.06-.94-2.06-.94L8.5 2.5l-.94 2.06-2.06.94zm10 10l.94 2.06.94-2.06 2.06-.94-2.06-.94-.94-2.06-.94 2.06-2.06.94z\"/><path d=\"M17.41 7.96l-1.37-1.37c-.4-.4-.92-.59-1.43-.59-.52 0-1.04.2-1.43.59L10.3 9.45l-7.72 7.72c-.78.78-.78 2.05 0 2.83L4 21.41c.39.39.9.59 1.41.59.51 0 1.02-.2 1.41-.59l7.78-7.78 2.81-2.81c.8-.78.8-2.07 0-2.86zM5.41 20L4 18.59l7.72-7.72 1.47 1.35L5.41 20z\"/>\n",
              "  </svg>\n",
              "      </button>\n",
              "      \n",
              "  <style>\n",
              "    .colab-df-container {\n",
              "      display:flex;\n",
              "      flex-wrap:wrap;\n",
              "      gap: 12px;\n",
              "    }\n",
              "\n",
              "    .colab-df-convert {\n",
              "      background-color: #E8F0FE;\n",
              "      border: none;\n",
              "      border-radius: 50%;\n",
              "      cursor: pointer;\n",
              "      display: none;\n",
              "      fill: #1967D2;\n",
              "      height: 32px;\n",
              "      padding: 0 0 0 0;\n",
              "      width: 32px;\n",
              "    }\n",
              "\n",
              "    .colab-df-convert:hover {\n",
              "      background-color: #E2EBFA;\n",
              "      box-shadow: 0px 1px 2px rgba(60, 64, 67, 0.3), 0px 1px 3px 1px rgba(60, 64, 67, 0.15);\n",
              "      fill: #174EA6;\n",
              "    }\n",
              "\n",
              "    [theme=dark] .colab-df-convert {\n",
              "      background-color: #3B4455;\n",
              "      fill: #D2E3FC;\n",
              "    }\n",
              "\n",
              "    [theme=dark] .colab-df-convert:hover {\n",
              "      background-color: #434B5C;\n",
              "      box-shadow: 0px 1px 3px 1px rgba(0, 0, 0, 0.15);\n",
              "      filter: drop-shadow(0px 1px 2px rgba(0, 0, 0, 0.3));\n",
              "      fill: #FFFFFF;\n",
              "    }\n",
              "  </style>\n",
              "\n",
              "      <script>\n",
              "        const buttonEl =\n",
              "          document.querySelector('#df-82bcb400-0c64-42ac-b181-4ca93b110d3e button.colab-df-convert');\n",
              "        buttonEl.style.display =\n",
              "          google.colab.kernel.accessAllowed ? 'block' : 'none';\n",
              "\n",
              "        async function convertToInteractive(key) {\n",
              "          const element = document.querySelector('#df-82bcb400-0c64-42ac-b181-4ca93b110d3e');\n",
              "          const dataTable =\n",
              "            await google.colab.kernel.invokeFunction('convertToInteractive',\n",
              "                                                     [key], {});\n",
              "          if (!dataTable) return;\n",
              "\n",
              "          const docLinkHtml = 'Like what you see? Visit the ' +\n",
              "            '<a target=\"_blank\" href=https://colab.research.google.com/notebooks/data_table.ipynb>data table notebook</a>'\n",
              "            + ' to learn more about interactive tables.';\n",
              "          element.innerHTML = '';\n",
              "          dataTable['output_type'] = 'display_data';\n",
              "          await google.colab.output.renderOutput(dataTable, element);\n",
              "          const docLink = document.createElement('div');\n",
              "          docLink.innerHTML = docLinkHtml;\n",
              "          element.appendChild(docLink);\n",
              "        }\n",
              "      </script>\n",
              "    </div>\n",
              "  </div>\n",
              "  "
            ]
          },
          "metadata": {},
          "execution_count": 3
        }
      ]
    },
    {
      "cell_type": "markdown",
      "source": [
        "DATA PREPARATION\n",
        "       Here we have understood hoe the data is, let pre-process for collected data"
      ],
      "metadata": {
        "id": "16ymnRtXQoXv"
      }
    },
    {
      "cell_type": "code",
      "source": [
        "#Handling Missing Values\n",
        "data.info()"
      ],
      "metadata": {
        "colab": {
          "base_uri": "https://localhost:8080/"
        },
        "id": "UPgpKUEhwg_P",
        "outputId": "04470ead-cc5a-4e5a-da3e-2dcd101f5ce2"
      },
      "execution_count": 4,
      "outputs": [
        {
          "output_type": "stream",
          "name": "stdout",
          "text": [
            "<class 'pandas.core.frame.DataFrame'>\n",
            "RangeIndex: 583 entries, 0 to 582\n",
            "Data columns (total 11 columns):\n",
            " #   Column                      Non-Null Count  Dtype  \n",
            "---  ------                      --------------  -----  \n",
            " 0   Age                         583 non-null    int64  \n",
            " 1   Gender                      583 non-null    object \n",
            " 2   Total_Bilirubin             583 non-null    float64\n",
            " 3   Direct_Bilirubin            583 non-null    float64\n",
            " 4   Alkaline_Phosphotase        583 non-null    int64  \n",
            " 5   Alamine_Aminotransferase    583 non-null    int64  \n",
            " 6   Aspartate_Aminotransferase  583 non-null    int64  \n",
            " 7   Total_Protiens              583 non-null    float64\n",
            " 8   Albumin                     583 non-null    float64\n",
            " 9   Albumin_and_Globulin_Ratio  579 non-null    float64\n",
            " 10  Dataset                     583 non-null    int64  \n",
            "dtypes: float64(5), int64(5), object(1)\n",
            "memory usage: 50.2+ KB\n"
          ]
        }
      ]
    },
    {
      "cell_type": "code",
      "source": [
        "data.isnull().any()"
      ],
      "metadata": {
        "colab": {
          "base_uri": "https://localhost:8080/"
        },
        "id": "ldsLkEzKwllJ",
        "outputId": "1f4bdb80-bd8b-47ba-e3fb-e79f200e30ff"
      },
      "execution_count": 5,
      "outputs": [
        {
          "output_type": "execute_result",
          "data": {
            "text/plain": [
              "Age                           False\n",
              "Gender                        False\n",
              "Total_Bilirubin               False\n",
              "Direct_Bilirubin              False\n",
              "Alkaline_Phosphotase          False\n",
              "Alamine_Aminotransferase      False\n",
              "Aspartate_Aminotransferase    False\n",
              "Total_Protiens                False\n",
              "Albumin                       False\n",
              "Albumin_and_Globulin_Ratio     True\n",
              "Dataset                       False\n",
              "dtype: bool"
            ]
          },
          "metadata": {},
          "execution_count": 5
        }
      ]
    },
    {
      "cell_type": "code",
      "source": [
        "data.isnull().sum()"
      ],
      "metadata": {
        "colab": {
          "base_uri": "https://localhost:8080/"
        },
        "id": "wVgzLW8Ywq0A",
        "outputId": "96b38d9e-97b4-49a5-c989-11f2ff3c1746"
      },
      "execution_count": 6,
      "outputs": [
        {
          "output_type": "execute_result",
          "data": {
            "text/plain": [
              "Age                           0\n",
              "Gender                        0\n",
              "Total_Bilirubin               0\n",
              "Direct_Bilirubin              0\n",
              "Alkaline_Phosphotase          0\n",
              "Alamine_Aminotransferase      0\n",
              "Aspartate_Aminotransferase    0\n",
              "Total_Protiens                0\n",
              "Albumin                       0\n",
              "Albumin_and_Globulin_Ratio    4\n",
              "Dataset                       0\n",
              "dtype: int64"
            ]
          },
          "metadata": {},
          "execution_count": 6
        }
      ]
    },
    {
      "cell_type": "code",
      "source": [
        "data['Albumin_and_Globulin_Ratio'] = data['Albumin_and_Globulin_Ratio'].fillna(data['Albumin_and_Globulin_Ratio'].mode()[0])\n",
        "data.isnull().sum()"
      ],
      "metadata": {
        "colab": {
          "base_uri": "https://localhost:8080/"
        },
        "id": "9rIAHmRtwwnn",
        "outputId": "c38f4c8d-0db2-4253-876a-052c29bb2b77"
      },
      "execution_count": 7,
      "outputs": [
        {
          "output_type": "execute_result",
          "data": {
            "text/plain": [
              "Age                           0\n",
              "Gender                        0\n",
              "Total_Bilirubin               0\n",
              "Direct_Bilirubin              0\n",
              "Alkaline_Phosphotase          0\n",
              "Alamine_Aminotransferase      0\n",
              "Aspartate_Aminotransferase    0\n",
              "Total_Protiens                0\n",
              "Albumin                       0\n",
              "Albumin_and_Globulin_Ratio    0\n",
              "Dataset                       0\n",
              "dtype: int64"
            ]
          },
          "metadata": {},
          "execution_count": 7
        }
      ]
    },
    {
      "cell_type": "code",
      "source": [
        "#Handling Categorical Values\n",
        "from sklearn.preprocessing import LabelEncoder\n",
        "lc = LabelEncoder()\n",
        "data['Gender']=lc.fit_transform(data['Gender'])"
      ],
      "metadata": {
        "id": "YFcTbqe5xQGu"
      },
      "execution_count": 8,
      "outputs": []
    },
    {
      "cell_type": "markdown",
      "source": [
        "EXPLORATORY DATA ANALYSIS"
      ],
      "metadata": {
        "id": "l0iwso_wRcLA"
      }
    },
    {
      "cell_type": "code",
      "source": [
        "#Descriptive Statistical\n",
        "data.describe()"
      ],
      "metadata": {
        "colab": {
          "base_uri": "https://localhost:8080/",
          "height": 364
        },
        "id": "zf2d5MLdxsTj",
        "outputId": "0f964810-05b4-44db-b3d7-ab620d571d2e"
      },
      "execution_count": 9,
      "outputs": [
        {
          "output_type": "execute_result",
          "data": {
            "text/plain": [
              "              Age      Gender  Total_Bilirubin  Direct_Bilirubin  \\\n",
              "count  583.000000  583.000000       583.000000        583.000000   \n",
              "mean    44.746141    0.756432         3.298799          1.486106   \n",
              "std     16.189833    0.429603         6.209522          2.808498   \n",
              "min      4.000000    0.000000         0.400000          0.100000   \n",
              "25%     33.000000    1.000000         0.800000          0.200000   \n",
              "50%     45.000000    1.000000         1.000000          0.300000   \n",
              "75%     58.000000    1.000000         2.600000          1.300000   \n",
              "max     90.000000    1.000000        75.000000         19.700000   \n",
              "\n",
              "       Alkaline_Phosphotase  Alamine_Aminotransferase  \\\n",
              "count            583.000000                583.000000   \n",
              "mean             290.576329                 80.713551   \n",
              "std              242.937989                182.620356   \n",
              "min               63.000000                 10.000000   \n",
              "25%              175.500000                 23.000000   \n",
              "50%              208.000000                 35.000000   \n",
              "75%              298.000000                 60.500000   \n",
              "max             2110.000000               2000.000000   \n",
              "\n",
              "       Aspartate_Aminotransferase  Total_Protiens     Albumin  \\\n",
              "count                  583.000000      583.000000  583.000000   \n",
              "mean                   109.910806        6.483190    3.141852   \n",
              "std                    288.918529        1.085451    0.795519   \n",
              "min                     10.000000        2.700000    0.900000   \n",
              "25%                     25.000000        5.800000    2.600000   \n",
              "50%                     42.000000        6.600000    3.100000   \n",
              "75%                     87.000000        7.200000    3.800000   \n",
              "max                   4929.000000        9.600000    5.500000   \n",
              "\n",
              "       Albumin_and_Globulin_Ratio     Dataset  \n",
              "count                  583.000000  583.000000  \n",
              "mean                     0.947427    1.286449  \n",
              "std                      0.318522    0.452490  \n",
              "min                      0.300000    1.000000  \n",
              "25%                      0.700000    1.000000  \n",
              "50%                      0.950000    1.000000  \n",
              "75%                      1.100000    2.000000  \n",
              "max                      2.800000    2.000000  "
            ],
            "text/html": [
              "\n",
              "  <div id=\"df-01ba0958-011c-4ef1-bd5e-2643c44c3a67\">\n",
              "    <div class=\"colab-df-container\">\n",
              "      <div>\n",
              "<style scoped>\n",
              "    .dataframe tbody tr th:only-of-type {\n",
              "        vertical-align: middle;\n",
              "    }\n",
              "\n",
              "    .dataframe tbody tr th {\n",
              "        vertical-align: top;\n",
              "    }\n",
              "\n",
              "    .dataframe thead th {\n",
              "        text-align: right;\n",
              "    }\n",
              "</style>\n",
              "<table border=\"1\" class=\"dataframe\">\n",
              "  <thead>\n",
              "    <tr style=\"text-align: right;\">\n",
              "      <th></th>\n",
              "      <th>Age</th>\n",
              "      <th>Gender</th>\n",
              "      <th>Total_Bilirubin</th>\n",
              "      <th>Direct_Bilirubin</th>\n",
              "      <th>Alkaline_Phosphotase</th>\n",
              "      <th>Alamine_Aminotransferase</th>\n",
              "      <th>Aspartate_Aminotransferase</th>\n",
              "      <th>Total_Protiens</th>\n",
              "      <th>Albumin</th>\n",
              "      <th>Albumin_and_Globulin_Ratio</th>\n",
              "      <th>Dataset</th>\n",
              "    </tr>\n",
              "  </thead>\n",
              "  <tbody>\n",
              "    <tr>\n",
              "      <th>count</th>\n",
              "      <td>583.000000</td>\n",
              "      <td>583.000000</td>\n",
              "      <td>583.000000</td>\n",
              "      <td>583.000000</td>\n",
              "      <td>583.000000</td>\n",
              "      <td>583.000000</td>\n",
              "      <td>583.000000</td>\n",
              "      <td>583.000000</td>\n",
              "      <td>583.000000</td>\n",
              "      <td>583.000000</td>\n",
              "      <td>583.000000</td>\n",
              "    </tr>\n",
              "    <tr>\n",
              "      <th>mean</th>\n",
              "      <td>44.746141</td>\n",
              "      <td>0.756432</td>\n",
              "      <td>3.298799</td>\n",
              "      <td>1.486106</td>\n",
              "      <td>290.576329</td>\n",
              "      <td>80.713551</td>\n",
              "      <td>109.910806</td>\n",
              "      <td>6.483190</td>\n",
              "      <td>3.141852</td>\n",
              "      <td>0.947427</td>\n",
              "      <td>1.286449</td>\n",
              "    </tr>\n",
              "    <tr>\n",
              "      <th>std</th>\n",
              "      <td>16.189833</td>\n",
              "      <td>0.429603</td>\n",
              "      <td>6.209522</td>\n",
              "      <td>2.808498</td>\n",
              "      <td>242.937989</td>\n",
              "      <td>182.620356</td>\n",
              "      <td>288.918529</td>\n",
              "      <td>1.085451</td>\n",
              "      <td>0.795519</td>\n",
              "      <td>0.318522</td>\n",
              "      <td>0.452490</td>\n",
              "    </tr>\n",
              "    <tr>\n",
              "      <th>min</th>\n",
              "      <td>4.000000</td>\n",
              "      <td>0.000000</td>\n",
              "      <td>0.400000</td>\n",
              "      <td>0.100000</td>\n",
              "      <td>63.000000</td>\n",
              "      <td>10.000000</td>\n",
              "      <td>10.000000</td>\n",
              "      <td>2.700000</td>\n",
              "      <td>0.900000</td>\n",
              "      <td>0.300000</td>\n",
              "      <td>1.000000</td>\n",
              "    </tr>\n",
              "    <tr>\n",
              "      <th>25%</th>\n",
              "      <td>33.000000</td>\n",
              "      <td>1.000000</td>\n",
              "      <td>0.800000</td>\n",
              "      <td>0.200000</td>\n",
              "      <td>175.500000</td>\n",
              "      <td>23.000000</td>\n",
              "      <td>25.000000</td>\n",
              "      <td>5.800000</td>\n",
              "      <td>2.600000</td>\n",
              "      <td>0.700000</td>\n",
              "      <td>1.000000</td>\n",
              "    </tr>\n",
              "    <tr>\n",
              "      <th>50%</th>\n",
              "      <td>45.000000</td>\n",
              "      <td>1.000000</td>\n",
              "      <td>1.000000</td>\n",
              "      <td>0.300000</td>\n",
              "      <td>208.000000</td>\n",
              "      <td>35.000000</td>\n",
              "      <td>42.000000</td>\n",
              "      <td>6.600000</td>\n",
              "      <td>3.100000</td>\n",
              "      <td>0.950000</td>\n",
              "      <td>1.000000</td>\n",
              "    </tr>\n",
              "    <tr>\n",
              "      <th>75%</th>\n",
              "      <td>58.000000</td>\n",
              "      <td>1.000000</td>\n",
              "      <td>2.600000</td>\n",
              "      <td>1.300000</td>\n",
              "      <td>298.000000</td>\n",
              "      <td>60.500000</td>\n",
              "      <td>87.000000</td>\n",
              "      <td>7.200000</td>\n",
              "      <td>3.800000</td>\n",
              "      <td>1.100000</td>\n",
              "      <td>2.000000</td>\n",
              "    </tr>\n",
              "    <tr>\n",
              "      <th>max</th>\n",
              "      <td>90.000000</td>\n",
              "      <td>1.000000</td>\n",
              "      <td>75.000000</td>\n",
              "      <td>19.700000</td>\n",
              "      <td>2110.000000</td>\n",
              "      <td>2000.000000</td>\n",
              "      <td>4929.000000</td>\n",
              "      <td>9.600000</td>\n",
              "      <td>5.500000</td>\n",
              "      <td>2.800000</td>\n",
              "      <td>2.000000</td>\n",
              "    </tr>\n",
              "  </tbody>\n",
              "</table>\n",
              "</div>\n",
              "      <button class=\"colab-df-convert\" onclick=\"convertToInteractive('df-01ba0958-011c-4ef1-bd5e-2643c44c3a67')\"\n",
              "              title=\"Convert this dataframe to an interactive table.\"\n",
              "              style=\"display:none;\">\n",
              "        \n",
              "  <svg xmlns=\"http://www.w3.org/2000/svg\" height=\"24px\"viewBox=\"0 0 24 24\"\n",
              "       width=\"24px\">\n",
              "    <path d=\"M0 0h24v24H0V0z\" fill=\"none\"/>\n",
              "    <path d=\"M18.56 5.44l.94 2.06.94-2.06 2.06-.94-2.06-.94-.94-2.06-.94 2.06-2.06.94zm-11 1L8.5 8.5l.94-2.06 2.06-.94-2.06-.94L8.5 2.5l-.94 2.06-2.06.94zm10 10l.94 2.06.94-2.06 2.06-.94-2.06-.94-.94-2.06-.94 2.06-2.06.94z\"/><path d=\"M17.41 7.96l-1.37-1.37c-.4-.4-.92-.59-1.43-.59-.52 0-1.04.2-1.43.59L10.3 9.45l-7.72 7.72c-.78.78-.78 2.05 0 2.83L4 21.41c.39.39.9.59 1.41.59.51 0 1.02-.2 1.41-.59l7.78-7.78 2.81-2.81c.8-.78.8-2.07 0-2.86zM5.41 20L4 18.59l7.72-7.72 1.47 1.35L5.41 20z\"/>\n",
              "  </svg>\n",
              "      </button>\n",
              "      \n",
              "  <style>\n",
              "    .colab-df-container {\n",
              "      display:flex;\n",
              "      flex-wrap:wrap;\n",
              "      gap: 12px;\n",
              "    }\n",
              "\n",
              "    .colab-df-convert {\n",
              "      background-color: #E8F0FE;\n",
              "      border: none;\n",
              "      border-radius: 50%;\n",
              "      cursor: pointer;\n",
              "      display: none;\n",
              "      fill: #1967D2;\n",
              "      height: 32px;\n",
              "      padding: 0 0 0 0;\n",
              "      width: 32px;\n",
              "    }\n",
              "\n",
              "    .colab-df-convert:hover {\n",
              "      background-color: #E2EBFA;\n",
              "      box-shadow: 0px 1px 2px rgba(60, 64, 67, 0.3), 0px 1px 3px 1px rgba(60, 64, 67, 0.15);\n",
              "      fill: #174EA6;\n",
              "    }\n",
              "\n",
              "    [theme=dark] .colab-df-convert {\n",
              "      background-color: #3B4455;\n",
              "      fill: #D2E3FC;\n",
              "    }\n",
              "\n",
              "    [theme=dark] .colab-df-convert:hover {\n",
              "      background-color: #434B5C;\n",
              "      box-shadow: 0px 1px 3px 1px rgba(0, 0, 0, 0.15);\n",
              "      filter: drop-shadow(0px 1px 2px rgba(0, 0, 0, 0.3));\n",
              "      fill: #FFFFFF;\n",
              "    }\n",
              "  </style>\n",
              "\n",
              "      <script>\n",
              "        const buttonEl =\n",
              "          document.querySelector('#df-01ba0958-011c-4ef1-bd5e-2643c44c3a67 button.colab-df-convert');\n",
              "        buttonEl.style.display =\n",
              "          google.colab.kernel.accessAllowed ? 'block' : 'none';\n",
              "\n",
              "        async function convertToInteractive(key) {\n",
              "          const element = document.querySelector('#df-01ba0958-011c-4ef1-bd5e-2643c44c3a67');\n",
              "          const dataTable =\n",
              "            await google.colab.kernel.invokeFunction('convertToInteractive',\n",
              "                                                     [key], {});\n",
              "          if (!dataTable) return;\n",
              "\n",
              "          const docLinkHtml = 'Like what you see? Visit the ' +\n",
              "            '<a target=\"_blank\" href=https://colab.research.google.com/notebooks/data_table.ipynb>data table notebook</a>'\n",
              "            + ' to learn more about interactive tables.';\n",
              "          element.innerHTML = '';\n",
              "          dataTable['output_type'] = 'display_data';\n",
              "          await google.colab.output.renderOutput(dataTable, element);\n",
              "          const docLink = document.createElement('div');\n",
              "          docLink.innerHTML = docLinkHtml;\n",
              "          element.appendChild(docLink);\n",
              "        }\n",
              "      </script>\n",
              "    </div>\n",
              "  </div>\n",
              "  "
            ]
          },
          "metadata": {},
          "execution_count": 9
        }
      ]
    },
    {
      "cell_type": "markdown",
      "source": [
        "VISUAL ANALYSIS\n",
        "           It is a process of using visual representation,such as charts,plots,etc.,"
      ],
      "metadata": {
        "id": "JFfg4dqPRuE2"
      }
    },
    {
      "cell_type": "code",
      "source": [
        "#univariate Analysis\n",
        "sns.distplot(data['Age'])\n",
        "plt.title('Age Distribution Graph')\n",
        "plt.show()"
      ],
      "metadata": {
        "colab": {
          "base_uri": "https://localhost:8080/",
          "height": 663
        },
        "id": "UbSmm3DcxxsW",
        "outputId": "19ff3faa-5398-4d03-cbbd-c5d19c178e5c"
      },
      "execution_count": 10,
      "outputs": [
        {
          "output_type": "stream",
          "name": "stderr",
          "text": [
            "<ipython-input-10-41c22b0a06dd>:2: UserWarning: \n",
            "\n",
            "`distplot` is a deprecated function and will be removed in seaborn v0.14.0.\n",
            "\n",
            "Please adapt your code to use either `displot` (a figure-level function with\n",
            "similar flexibility) or `histplot` (an axes-level function for histograms).\n",
            "\n",
            "For a guide to updating your code to use the new functions, please see\n",
            "https://gist.github.com/mwaskom/de44147ed2974457ad6372750bbe5751\n",
            "\n",
            "  sns.distplot(data['Age'])\n"
          ]
        },
        {
          "output_type": "display_data",
          "data": {
            "text/plain": [
              "<Figure size 640x480 with 1 Axes>"
            ],
            "image/png": "[encoded data removed]"
          },
          "metadata": {}
        }
      ]
    },
    {
      "cell_type": "code",
      "source": [
        "#Bivariate Analysis\n",
        "sns.countplot(data,x='Dataset', hue=data['Gender'])"
      ],
      "metadata": {
        "colab": {
          "base_uri": "https://localhost:8080/",
          "height": 466
        },
        "id": "RMfUFKDAyRmD",
        "outputId": "880355f7-c8ee-4838-eac0-14ca4f2e347e"
      },
      "execution_count": 11,
      "outputs": [
        {
          "output_type": "execute_result",
          "data": {
            "text/plain": [
              "<Axes: xlabel='Dataset', ylabel='count'>"
            ]
          },
          "metadata": {},
          "execution_count": 11
        },
        {
          "output_type": "display_data",
          "data": {
            "text/plain": [
              "<Figure size 640x480 with 1 Axes>"
            ],
            "image/png": "[encoded data removed]"
          },
          "metadata": {}
        }
      ]
    },
    {
      "cell_type": "code",
      "source": [
        "#Multivariate Analysis\n",
        "plt.figure(figsize=(10,7))\n",
        "sns.heatmap(data.corr(),annot=True)"
      ],
      "metadata": {
        "colab": {
          "base_uri": "https://localhost:8080/",
          "height": 795
        },
        "id": "-2SkF2ps4GsA",
        "outputId": "dcf84103-951d-4e3a-f28e-0725e2bad0d1"
      },
      "execution_count": 12,
      "outputs": [
        {
          "output_type": "execute_result",
          "data": {
            "text/plain": [
              "<Axes: >"
            ]
          },
          "metadata": {},
          "execution_count": 12
        },
        {
          "output_type": "display_data",
          "data": {
            "text/plain": [
              "<Figure size 1000x700 with 2 Axes>"
            ],
            "image/png": "[encoded data removed]"
          },
          "metadata": {}
        }
      ]
    },
    {
      "cell_type": "code",
      "source": [
        "from sklearn.preprocessing import StandardScaler\n",
        "from sklearn.preprocessing import scale\n",
        "x_scaled = pd.DataFrame (scale(x), columns=x.columns)"
      ],
      "metadata": {
        "id": "LT8O65aw4-xe"
      },
      "execution_count": 22,
      "outputs": []
    },
    {
      "cell_type": "code",
      "source": [
        "x=data.iloc[:,:-1]\n",
        "y=data.Dataset"
      ],
      "metadata": {
        "id": "1Iir5GUi9Dq4"
      },
      "execution_count": 19,
      "outputs": []
    },
    {
      "cell_type": "code",
      "source": [
        "from sklearn.model_selection import train_test_split\n",
        "x_train,x_test,y_train,y_test = train_test_split(x_scaled,y,test_size=0.2,random_state=10)"
      ],
      "metadata": {
        "id": "yxTejkXp9VNK"
      },
      "execution_count": 24,
      "outputs": []
    },
    {
      "cell_type": "code",
      "source": [
        "#Handling Imbalance Data"
      ],
      "metadata": {
        "id": "SfuuLODm_DMc"
      },
      "execution_count": 57,
      "outputs": []
    },
    {
      "cell_type": "code",
      "source": [
        "from imblearn.over_sampling import SMOTE\n",
        "smote = SMOTE()"
      ],
      "metadata": {
        "id": "UVEmkDP7_OmD"
      },
      "execution_count": 26,
      "outputs": []
    },
    {
      "cell_type": "code",
      "source": [
        "y_train.value_counts()"
      ],
      "metadata": {
        "colab": {
          "base_uri": "https://localhost:8080/"
        },
        "id": "-9t7tZqR_fYC",
        "outputId": "28ce38ee-53ae-468d-b17a-8e228636f603"
      },
      "execution_count": 29,
      "outputs": [
        {
          "output_type": "execute_result",
          "data": {
            "text/plain": [
              "1    333\n",
              "2    133\n",
              "Name: Dataset, dtype: int64"
            ]
          },
          "metadata": {},
          "execution_count": 29
        }
      ]
    },
    {
      "cell_type": "code",
      "source": [
        "x_train_smote,y_train_smote = smote.fit_resample(x_train,y_train)"
      ],
      "metadata": {
        "id": "WAjnA8Ec_skr"
      },
      "execution_count": 30,
      "outputs": []
    },
    {
      "cell_type": "code",
      "source": [
        "y_train_smote.value_counts()"
      ],
      "metadata": {
        "colab": {
          "base_uri": "https://localhost:8080/"
        },
        "id": "HBrHUHAD_-hn",
        "outputId": "7f0e6a36-8930-40b9-aefb-1eaed856a222"
      },
      "execution_count": 31,
      "outputs": [
        {
          "output_type": "execute_result",
          "data": {
            "text/plain": [
              "2    333\n",
              "1    333\n",
              "Name: Dataset, dtype: int64"
            ]
          },
          "metadata": {},
          "execution_count": 31
        }
      ]
    },
    {
      "cell_type": "markdown",
      "source": [
        "MODEL BUILDING"
      ],
      "metadata": {
        "id": "EuadIuywSmG5"
      }
    },
    {
      "cell_type": "markdown",
      "source": [
        "TRAINING THE MODEL IN MUTIPLE ALGORITHMS\n",
        "                In this Model building we can train our data on different algorithms."
      ],
      "metadata": {
        "id": "4Us0qheVSqdQ"
      }
    },
    {
      "cell_type": "code",
      "source": [
        "#Random Forest Model\n",
        "from sklearn.ensemble import RandomForestClassifier\n",
        "model1 = RandomForestClassifier()\n",
        "model1.fit(x_train_smote,y_train_smote)\n",
        "y_predict = model1.predict(x_test)\n",
        "rfc1 = accuracy_score(y_test,y_predict)\n",
        "rfc1\n",
        "pd.crosstab(y_test, y_predict)\n",
        "print(classification_report(y_test, y_predict))"
      ],
      "metadata": {
        "colab": {
          "base_uri": "https://localhost:8080/"
        },
        "id": "Hi7NBpHmAIT4",
        "outputId": "501a742c-5cfb-4c1d-eb66-422e6bd1a884"
      },
      "execution_count": 32,
      "outputs": [
        {
          "output_type": "stream",
          "name": "stdout",
          "text": [
            "              precision    recall  f1-score   support\n",
            "\n",
            "           1       0.74      0.69      0.71        83\n",
            "           2       0.35      0.41      0.38        34\n",
            "\n",
            "    accuracy                           0.61       117\n",
            "   macro avg       0.55      0.55      0.55       117\n",
            "weighted avg       0.63      0.61      0.62       117\n",
            "\n"
          ]
        }
      ]
    },
    {
      "cell_type": "code",
      "source": [
        "#Decision Tree Model\n",
        "from sklearn.tree import DecisionTreeClassifier\n",
        "model4 = DecisionTreeClassifier()\n",
        "model4.fit(x_train_smote,y_train_smote)\n",
        "y_predict = model4.predict(x_test)\n",
        "dtc1 = accuracy_score(y_test,y_predict)\n",
        "dtc1\n",
        "pd.crosstab(y_test,y_predict)\n",
        "print(classification_report(y_test,y_predict))"
      ],
      "metadata": {
        "colab": {
          "base_uri": "https://localhost:8080/"
        },
        "id": "VWgCiwNYHHPu",
        "outputId": "8c98c651-1d96-48fb-bca5-71a3412532ad"
      },
      "execution_count": 33,
      "outputs": [
        {
          "output_type": "stream",
          "name": "stdout",
          "text": [
            "              precision    recall  f1-score   support\n",
            "\n",
            "           1       0.81      0.76      0.78        83\n",
            "           2       0.49      0.56      0.52        34\n",
            "\n",
            "    accuracy                           0.70       117\n",
            "   macro avg       0.65      0.66      0.65       117\n",
            "weighted avg       0.71      0.70      0.71       117\n",
            "\n"
          ]
        }
      ]
    },
    {
      "cell_type": "code",
      "source": [
        "#KNN Model\n",
        "from sklearn.neighbors import KNeighborsClassifier\n",
        "model2 = KNeighborsClassifier()\n",
        "model2.fit(x_train_smote,y_train_smote)\n",
        "y_predict = model2.predict(x_test)\n",
        "knn1 = accuracy_score(y_test,y_predict)\n",
        "knn1\n",
        "pd.crosstab(y_test,y_predict)\n",
        "print(classification_report(y_test,y_predict))"
      ],
      "metadata": {
        "colab": {
          "base_uri": "https://localhost:8080/"
        },
        "id": "-9ZEGHUtIUfV",
        "outputId": "8894ab39-76de-41e5-8564-dfd25433ec1a"
      },
      "execution_count": 34,
      "outputs": [
        {
          "output_type": "stream",
          "name": "stdout",
          "text": [
            "              precision    recall  f1-score   support\n",
            "\n",
            "           1       0.73      0.49      0.59        83\n",
            "           2       0.31      0.56      0.40        34\n",
            "\n",
            "    accuracy                           0.51       117\n",
            "   macro avg       0.52      0.53      0.49       117\n",
            "weighted avg       0.61      0.51      0.53       117\n",
            "\n"
          ]
        }
      ]
    },
    {
      "cell_type": "code",
      "source": [
        "#Logistic Regression Model\n",
        "from sklearn.linear_model import LogisticRegression\n",
        "model5 = LogisticRegression()\n",
        "model5.fit(x_train_smote,y_train_smote)\n",
        "y_predict = model5.predict(x_test)\n",
        "logi1 = accuracy_score(y_test,y_predict)\n",
        "logi1\n",
        "pd.crosstab(y_test,y_predict)\n",
        "print(classification_report(y_test,y_predict))"
      ],
      "metadata": {
        "colab": {
          "base_uri": "https://localhost:8080/"
        },
        "id": "Y_Pp721IJDH8",
        "outputId": "3f005574-3593-4081-d656-f3141e4424af"
      },
      "execution_count": 35,
      "outputs": [
        {
          "output_type": "stream",
          "name": "stdout",
          "text": [
            "              precision    recall  f1-score   support\n",
            "\n",
            "           1       0.84      0.65      0.73        83\n",
            "           2       0.45      0.71      0.55        34\n",
            "\n",
            "    accuracy                           0.67       117\n",
            "   macro avg       0.65      0.68      0.64       117\n",
            "weighted avg       0.73      0.67      0.68       117\n",
            "\n"
          ]
        }
      ]
    },
    {
      "cell_type": "code",
      "source": [
        "#ANN Model\n",
        "import tensorflow.keras\n",
        "from tensorflow.keras.models import Sequential\n",
        "from tensorflow.keras.layers import Dense"
      ],
      "metadata": {
        "id": "l2IgJFRoJkFO"
      },
      "execution_count": 36,
      "outputs": []
    },
    {
      "cell_type": "code",
      "source": [
        "# Initialising the ANW\n",
        "classifier = Sequential()"
      ],
      "metadata": {
        "id": "fwwesFGBKFEq"
      },
      "execution_count": 37,
      "outputs": []
    },
    {
      "cell_type": "code",
      "source": [
        "# Adding the input layer and the first hidden layer\n",
        "classifier.add(Dense(units=100, activation='relu',input_dim=10))"
      ],
      "metadata": {
        "id": "17VR-6XeKbqy"
      },
      "execution_count": 38,
      "outputs": []
    },
    {
      "cell_type": "code",
      "source": [
        "# Adding the second hidden layer\n",
        "classifier.add(Dense(units=50, activation='relu'))"
      ],
      "metadata": {
        "id": "ZgdAor7hK6dX"
      },
      "execution_count": 39,
      "outputs": []
    },
    {
      "cell_type": "code",
      "source": [
        "# Adding the output layer\n",
        "classifier.add(Dense(units=1, activation='sigmoid'))"
      ],
      "metadata": {
        "id": "v4i1M3dOLIJp"
      },
      "execution_count": 40,
      "outputs": []
    },
    {
      "cell_type": "code",
      "source": [
        "#Compilling the ANN\n",
        "classifier.compile(optimizer='adam',loss='binary_crossentropy',metrics=['accuracy'])"
      ],
      "metadata": {
        "id": "8QbkWPPJLU6V"
      },
      "execution_count": 41,
      "outputs": []
    },
    {
      "cell_type": "code",
      "source": [
        "# Fitting the ANN to the Training set\n",
        "model_history = classifier.fit(x_train,y_train,batch_size=100,validation_split=0.2,epochs=100)"
      ],
      "metadata": {
        "colab": {
          "base_uri": "https://localhost:8080/"
        },
        "id": "0rFebh5aLv6O",
        "outputId": "b01c5ac4-8b83-40de-a939-e5c312d4045b"
      },
      "execution_count": 42,
      "outputs": [
        {
          "output_type": "stream",
          "name": "stdout",
          "text": [
            "Epoch 1/100\n",
            "4/4 [==============================] - 1s 91ms/step - loss: 0.4918 - accuracy: 0.6667 - val_loss: 0.3447 - val_accuracy: 0.6915\n",
            "Epoch 2/100\n",
            "4/4 [==============================] - 0s 23ms/step - loss: 0.2802 - accuracy: 0.7204 - val_loss: 0.1408 - val_accuracy: 0.6915\n",
            "Epoch 3/100\n",
            "4/4 [==============================] - 0s 22ms/step - loss: 0.0939 - accuracy: 0.7204 - val_loss: -0.0437 - val_accuracy: 0.6915\n",
            "Epoch 4/100\n",
            "4/4 [==============================] - 0s 24ms/step - loss: -0.0760 - accuracy: 0.7204 - val_loss: -0.2187 - val_accuracy: 0.6915\n",
            "Epoch 5/100\n",
            "4/4 [==============================] - 0s 25ms/step - loss: -0.2404 - accuracy: 0.7204 - val_loss: -0.3928 - val_accuracy: 0.6915\n",
            "Epoch 6/100\n",
            "4/4 [==============================] - 0s 24ms/step - loss: -0.4039 - accuracy: 0.7204 - val_loss: -0.5702 - val_accuracy: 0.6915\n",
            "Epoch 7/100\n",
            "4/4 [==============================] - 0s 30ms/step - loss: -0.5659 - accuracy: 0.7204 - val_loss: -0.7568 - val_accuracy: 0.6915\n",
            "Epoch 8/100\n",
            "4/4 [==============================] - 0s 27ms/step - loss: -0.7404 - accuracy: 0.7204 - val_loss: -0.9546 - val_accuracy: 0.6915\n",
            "Epoch 9/100\n",
            "4/4 [==============================] - 0s 22ms/step - loss: -0.9218 - accuracy: 0.7204 - val_loss: -1.1677 - val_accuracy: 0.6915\n",
            "Epoch 10/100\n",
            "4/4 [==============================] - 0s 24ms/step - loss: -1.1230 - accuracy: 0.7204 - val_loss: -1.3994 - val_accuracy: 0.6915\n",
            "Epoch 11/100\n",
            "4/4 [==============================] - 0s 27ms/step - loss: -1.3496 - accuracy: 0.7204 - val_loss: -1.6549 - val_accuracy: 0.6915\n",
            "Epoch 12/100\n",
            "4/4 [==============================] - 0s 25ms/step - loss: -1.5782 - accuracy: 0.7204 - val_loss: -1.9461 - val_accuracy: 0.6915\n",
            "Epoch 13/100\n",
            "4/4 [==============================] - 0s 19ms/step - loss: -1.8599 - accuracy: 0.7204 - val_loss: -2.2715 - val_accuracy: 0.6915\n",
            "Epoch 14/100\n",
            "4/4 [==============================] - 0s 24ms/step - loss: -2.1617 - accuracy: 0.7204 - val_loss: -2.6430 - val_accuracy: 0.6915\n",
            "Epoch 15/100\n",
            "4/4 [==============================] - 0s 27ms/step - loss: -2.5062 - accuracy: 0.7204 - val_loss: -3.0660 - val_accuracy: 0.6915\n",
            "Epoch 16/100\n",
            "4/4 [==============================] - 0s 27ms/step - loss: -2.9154 - accuracy: 0.7204 - val_loss: -3.5455 - val_accuracy: 0.6915\n",
            "Epoch 17/100\n",
            "4/4 [==============================] - 0s 25ms/step - loss: -3.3699 - accuracy: 0.7204 - val_loss: -4.0945 - val_accuracy: 0.6915\n",
            "Epoch 18/100\n",
            "4/4 [==============================] - 0s 26ms/step - loss: -3.9013 - accuracy: 0.7204 - val_loss: -4.7156 - val_accuracy: 0.6915\n",
            "Epoch 19/100\n",
            "4/4 [==============================] - 0s 18ms/step - loss: -4.4763 - accuracy: 0.7204 - val_loss: -5.4265 - val_accuracy: 0.6915\n",
            "Epoch 20/100\n",
            "4/4 [==============================] - 0s 24ms/step - loss: -5.1648 - accuracy: 0.7204 - val_loss: -6.2196 - val_accuracy: 0.6915\n",
            "Epoch 21/100\n",
            "4/4 [==============================] - 0s 28ms/step - loss: -5.9263 - accuracy: 0.7204 - val_loss: -7.1114 - val_accuracy: 0.6915\n",
            "Epoch 22/100\n",
            "4/4 [==============================] - 0s 25ms/step - loss: -6.7671 - accuracy: 0.7204 - val_loss: -8.1132 - val_accuracy: 0.6915\n",
            "Epoch 23/100\n",
            "4/4 [==============================] - 0s 27ms/step - loss: -7.7153 - accuracy: 0.7204 - val_loss: -9.2368 - val_accuracy: 0.6915\n",
            "Epoch 24/100\n",
            "4/4 [==============================] - 0s 23ms/step - loss: -8.7886 - accuracy: 0.7204 - val_loss: -10.4908 - val_accuracy: 0.6915\n",
            "Epoch 25/100\n",
            "4/4 [==============================] - 0s 25ms/step - loss: -9.9948 - accuracy: 0.7204 - val_loss: -11.8843 - val_accuracy: 0.6915\n",
            "Epoch 26/100\n",
            "4/4 [==============================] - 0s 21ms/step - loss: -11.3189 - accuracy: 0.7204 - val_loss: -13.4328 - val_accuracy: 0.6915\n",
            "Epoch 27/100\n",
            "4/4 [==============================] - 0s 24ms/step - loss: -12.7595 - accuracy: 0.7204 - val_loss: -15.1529 - val_accuracy: 0.6915\n",
            "Epoch 28/100\n",
            "4/4 [==============================] - 0s 24ms/step - loss: -14.3229 - accuracy: 0.7204 - val_loss: -17.0390 - val_accuracy: 0.6915\n",
            "Epoch 29/100\n",
            "4/4 [==============================] - 0s 24ms/step - loss: -16.1654 - accuracy: 0.7204 - val_loss: -19.0844 - val_accuracy: 0.6915\n",
            "Epoch 30/100\n",
            "4/4 [==============================] - 0s 23ms/step - loss: -18.1345 - accuracy: 0.7204 - val_loss: -21.3163 - val_accuracy: 0.6915\n",
            "Epoch 31/100\n",
            "4/4 [==============================] - 0s 27ms/step - loss: -20.1972 - accuracy: 0.7204 - val_loss: -23.7750 - val_accuracy: 0.6915\n",
            "Epoch 32/100\n",
            "4/4 [==============================] - 0s 27ms/step - loss: -22.5656 - accuracy: 0.7204 - val_loss: -26.4282 - val_accuracy: 0.6915\n",
            "Epoch 33/100\n",
            "4/4 [==============================] - 0s 24ms/step - loss: -25.0916 - accuracy: 0.7204 - val_loss: -29.3020 - val_accuracy: 0.6915\n",
            "Epoch 34/100\n",
            "4/4 [==============================] - 0s 19ms/step - loss: -27.8125 - accuracy: 0.7204 - val_loss: -32.4120 - val_accuracy: 0.6915\n",
            "Epoch 35/100\n",
            "4/4 [==============================] - 0s 25ms/step - loss: -30.8128 - accuracy: 0.7204 - val_loss: -35.7724 - val_accuracy: 0.6915\n",
            "Epoch 36/100\n",
            "4/4 [==============================] - 0s 19ms/step - loss: -33.9228 - accuracy: 0.7204 - val_loss: -39.4187 - val_accuracy: 0.6915\n",
            "Epoch 37/100\n",
            "4/4 [==============================] - 0s 18ms/step - loss: -37.3577 - accuracy: 0.7204 - val_loss: -43.3356 - val_accuracy: 0.6915\n",
            "Epoch 38/100\n",
            "4/4 [==============================] - 0s 14ms/step - loss: -41.0000 - accuracy: 0.7204 - val_loss: -47.5002 - val_accuracy: 0.6915\n",
            "Epoch 39/100\n",
            "4/4 [==============================] - 0s 13ms/step - loss: -45.1147 - accuracy: 0.7204 - val_loss: -51.8643 - val_accuracy: 0.6915\n",
            "Epoch 40/100\n",
            "4/4 [==============================] - 0s 15ms/step - loss: -49.2583 - accuracy: 0.7204 - val_loss: -56.5882 - val_accuracy: 0.6915\n",
            "Epoch 41/100\n",
            "4/4 [==============================] - 0s 14ms/step - loss: -53.6956 - accuracy: 0.7204 - val_loss: -61.6448 - val_accuracy: 0.6915\n",
            "Epoch 42/100\n",
            "4/4 [==============================] - 0s 14ms/step - loss: -58.4834 - accuracy: 0.7204 - val_loss: -67.0588 - val_accuracy: 0.6915\n",
            "Epoch 43/100\n",
            "4/4 [==============================] - 0s 15ms/step - loss: -63.5818 - accuracy: 0.7204 - val_loss: -72.8092 - val_accuracy: 0.6915\n",
            "Epoch 44/100\n",
            "4/4 [==============================] - 0s 13ms/step - loss: -69.0982 - accuracy: 0.7204 - val_loss: -78.8876 - val_accuracy: 0.6915\n",
            "Epoch 45/100\n",
            "4/4 [==============================] - 0s 16ms/step - loss: -75.0280 - accuracy: 0.7204 - val_loss: -85.2967 - val_accuracy: 0.6915\n",
            "Epoch 46/100\n",
            "4/4 [==============================] - 0s 14ms/step - loss: -81.2051 - accuracy: 0.7204 - val_loss: -92.0960 - val_accuracy: 0.6915\n",
            "Epoch 47/100\n",
            "4/4 [==============================] - 0s 13ms/step - loss: -87.4409 - accuracy: 0.7204 - val_loss: -99.3926 - val_accuracy: 0.6915\n",
            "Epoch 48/100\n",
            "4/4 [==============================] - 0s 14ms/step - loss: -94.3298 - accuracy: 0.7204 - val_loss: -107.0227 - val_accuracy: 0.6915\n",
            "Epoch 49/100\n",
            "4/4 [==============================] - 0s 20ms/step - loss: -101.8302 - accuracy: 0.7204 - val_loss: -114.9467 - val_accuracy: 0.6915\n",
            "Epoch 50/100\n",
            "4/4 [==============================] - 0s 14ms/step - loss: -109.3730 - accuracy: 0.7204 - val_loss: -123.2668 - val_accuracy: 0.6915\n",
            "Epoch 51/100\n",
            "4/4 [==============================] - 0s 14ms/step - loss: -117.2664 - accuracy: 0.7204 - val_loss: -132.0461 - val_accuracy: 0.6915\n",
            "Epoch 52/100\n",
            "4/4 [==============================] - 0s 15ms/step - loss: -125.4328 - accuracy: 0.7204 - val_loss: -141.3835 - val_accuracy: 0.6915\n",
            "Epoch 53/100\n",
            "4/4 [==============================] - 0s 17ms/step - loss: -134.2119 - accuracy: 0.7204 - val_loss: -151.1329 - val_accuracy: 0.6915\n",
            "Epoch 54/100\n",
            "4/4 [==============================] - 0s 13ms/step - loss: -143.6993 - accuracy: 0.7204 - val_loss: -161.2039 - val_accuracy: 0.6915\n",
            "Epoch 55/100\n",
            "4/4 [==============================] - 0s 14ms/step - loss: -153.0271 - accuracy: 0.7204 - val_loss: -171.7590 - val_accuracy: 0.6915\n",
            "Epoch 56/100\n",
            "4/4 [==============================] - 0s 15ms/step - loss: -163.7321 - accuracy: 0.7204 - val_loss: -182.5786 - val_accuracy: 0.6915\n",
            "Epoch 57/100\n",
            "4/4 [==============================] - 0s 20ms/step - loss: -173.6290 - accuracy: 0.7204 - val_loss: -194.1549 - val_accuracy: 0.6915\n",
            "Epoch 58/100\n",
            "4/4 [==============================] - 0s 13ms/step - loss: -184.5238 - accuracy: 0.7204 - val_loss: -206.2542 - val_accuracy: 0.6915\n",
            "Epoch 59/100\n",
            "4/4 [==============================] - 0s 13ms/step - loss: -196.6531 - accuracy: 0.7204 - val_loss: -218.6205 - val_accuracy: 0.6915\n",
            "Epoch 60/100\n",
            "4/4 [==============================] - 0s 14ms/step - loss: -208.3957 - accuracy: 0.7204 - val_loss: -231.6434 - val_accuracy: 0.6915\n",
            "Epoch 61/100\n",
            "4/4 [==============================] - 0s 14ms/step - loss: -220.6525 - accuracy: 0.7204 - val_loss: -245.3429 - val_accuracy: 0.6915\n",
            "Epoch 62/100\n",
            "4/4 [==============================] - 0s 13ms/step - loss: -233.5397 - accuracy: 0.7204 - val_loss: -259.5885 - val_accuracy: 0.6915\n",
            "Epoch 63/100\n",
            "4/4 [==============================] - 0s 22ms/step - loss: -247.8108 - accuracy: 0.7204 - val_loss: -274.0826 - val_accuracy: 0.6915\n",
            "Epoch 64/100\n",
            "4/4 [==============================] - 0s 13ms/step - loss: -261.3083 - accuracy: 0.7204 - val_loss: -289.4001 - val_accuracy: 0.6915\n",
            "Epoch 65/100\n",
            "4/4 [==============================] - 0s 13ms/step - loss: -276.1909 - accuracy: 0.7204 - val_loss: -305.1659 - val_accuracy: 0.6915\n",
            "Epoch 66/100\n",
            "4/4 [==============================] - 0s 18ms/step - loss: -291.1769 - accuracy: 0.7204 - val_loss: -321.5975 - val_accuracy: 0.6915\n",
            "Epoch 67/100\n",
            "4/4 [==============================] - 0s 13ms/step - loss: -305.9375 - accuracy: 0.7204 - val_loss: -338.8140 - val_accuracy: 0.6915\n",
            "Epoch 68/100\n",
            "4/4 [==============================] - 0s 13ms/step - loss: -323.0331 - accuracy: 0.7204 - val_loss: -356.3260 - val_accuracy: 0.6915\n",
            "Epoch 69/100\n",
            "4/4 [==============================] - 0s 15ms/step - loss: -340.0354 - accuracy: 0.7204 - val_loss: -374.3154 - val_accuracy: 0.6915\n",
            "Epoch 70/100\n",
            "4/4 [==============================] - 0s 13ms/step - loss: -358.2151 - accuracy: 0.7204 - val_loss: -392.6525 - val_accuracy: 0.6915\n",
            "Epoch 71/100\n",
            "4/4 [==============================] - 0s 14ms/step - loss: -374.5605 - accuracy: 0.7204 - val_loss: -412.3032 - val_accuracy: 0.6915\n",
            "Epoch 72/100\n",
            "4/4 [==============================] - 0s 15ms/step - loss: -394.4288 - accuracy: 0.7204 - val_loss: -432.0680 - val_accuracy: 0.6915\n",
            "Epoch 73/100\n",
            "4/4 [==============================] - 0s 16ms/step - loss: -413.0263 - accuracy: 0.7204 - val_loss: -452.7715 - val_accuracy: 0.6915\n",
            "Epoch 74/100\n",
            "4/4 [==============================] - 0s 14ms/step - loss: -433.6154 - accuracy: 0.7204 - val_loss: -473.8757 - val_accuracy: 0.6915\n",
            "Epoch 75/100\n",
            "4/4 [==============================] - 0s 15ms/step - loss: -453.1747 - accuracy: 0.7204 - val_loss: -496.0704 - val_accuracy: 0.6915\n",
            "Epoch 76/100\n",
            "4/4 [==============================] - 0s 20ms/step - loss: -474.6613 - accuracy: 0.7204 - val_loss: -518.8258 - val_accuracy: 0.6915\n",
            "Epoch 77/100\n",
            "4/4 [==============================] - 0s 15ms/step - loss: -496.8975 - accuracy: 0.7204 - val_loss: -542.0997 - val_accuracy: 0.6915\n",
            "Epoch 78/100\n",
            "4/4 [==============================] - 0s 13ms/step - loss: -519.2916 - accuracy: 0.7204 - val_loss: -566.1365 - val_accuracy: 0.6915\n",
            "Epoch 79/100\n",
            "4/4 [==============================] - 0s 19ms/step - loss: -541.8234 - accuracy: 0.7204 - val_loss: -591.0312 - val_accuracy: 0.6915\n",
            "Epoch 80/100\n",
            "4/4 [==============================] - 0s 15ms/step - loss: -566.0093 - accuracy: 0.7204 - val_loss: -616.5236 - val_accuracy: 0.6915\n",
            "Epoch 81/100\n",
            "4/4 [==============================] - 0s 16ms/step - loss: -590.2454 - accuracy: 0.7204 - val_loss: -642.8600 - val_accuracy: 0.6915\n",
            "Epoch 82/100\n",
            "4/4 [==============================] - 0s 22ms/step - loss: -615.0919 - accuracy: 0.7204 - val_loss: -669.9006 - val_accuracy: 0.6915\n",
            "Epoch 83/100\n",
            "4/4 [==============================] - 0s 19ms/step - loss: -640.1663 - accuracy: 0.7204 - val_loss: -697.4582 - val_accuracy: 0.6915\n",
            "Epoch 84/100\n",
            "4/4 [==============================] - 0s 15ms/step - loss: -667.9105 - accuracy: 0.7204 - val_loss: -725.1932 - val_accuracy: 0.6915\n",
            "Epoch 85/100\n",
            "4/4 [==============================] - 0s 14ms/step - loss: -695.3990 - accuracy: 0.7204 - val_loss: -753.5704 - val_accuracy: 0.6915\n",
            "Epoch 86/100\n",
            "4/4 [==============================] - 0s 13ms/step - loss: -723.0456 - accuracy: 0.7204 - val_loss: -783.0038 - val_accuracy: 0.6915\n",
            "Epoch 87/100\n",
            "4/4 [==============================] - 0s 15ms/step - loss: -751.4159 - accuracy: 0.7204 - val_loss: -813.4228 - val_accuracy: 0.6915\n",
            "Epoch 88/100\n",
            "4/4 [==============================] - 0s 14ms/step - loss: -781.2123 - accuracy: 0.7204 - val_loss: -844.6528 - val_accuracy: 0.6915\n",
            "Epoch 89/100\n",
            "4/4 [==============================] - 0s 13ms/step - loss: -810.5369 - accuracy: 0.7204 - val_loss: -877.1044 - val_accuracy: 0.6915\n",
            "Epoch 90/100\n",
            "4/4 [==============================] - 0s 14ms/step - loss: -840.9239 - accuracy: 0.7204 - val_loss: -910.5063 - val_accuracy: 0.6915\n",
            "Epoch 91/100\n",
            "4/4 [==============================] - 0s 15ms/step - loss: -874.3412 - accuracy: 0.7204 - val_loss: -944.0384 - val_accuracy: 0.6915\n",
            "Epoch 92/100\n",
            "4/4 [==============================] - 0s 14ms/step - loss: -905.0950 - accuracy: 0.7204 - val_loss: -979.0804 - val_accuracy: 0.6915\n",
            "Epoch 93/100\n",
            "4/4 [==============================] - 0s 20ms/step - loss: -939.5877 - accuracy: 0.7204 - val_loss: -1014.5276 - val_accuracy: 0.6915\n",
            "Epoch 94/100\n",
            "4/4 [==============================] - 0s 21ms/step - loss: -974.6467 - accuracy: 0.7204 - val_loss: -1050.5846 - val_accuracy: 0.6915\n",
            "Epoch 95/100\n",
            "4/4 [==============================] - 0s 19ms/step - loss: -1009.4962 - accuracy: 0.7204 - val_loss: -1087.7200 - val_accuracy: 0.6915\n",
            "Epoch 96/100\n",
            "4/4 [==============================] - 0s 17ms/step - loss: -1044.9374 - accuracy: 0.7204 - val_loss: -1125.9711 - val_accuracy: 0.6915\n",
            "Epoch 97/100\n",
            "4/4 [==============================] - 0s 14ms/step - loss: -1082.9825 - accuracy: 0.7204 - val_loss: -1164.8357 - val_accuracy: 0.6915\n",
            "Epoch 98/100\n",
            "4/4 [==============================] - 0s 14ms/step - loss: -1119.5621 - accuracy: 0.7204 - val_loss: -1204.9197 - val_accuracy: 0.6915\n",
            "Epoch 99/100\n",
            "4/4 [==============================] - 0s 14ms/step - loss: -1158.5181 - accuracy: 0.7204 - val_loss: -1245.5432 - val_accuracy: 0.6915\n",
            "Epoch 100/100\n",
            "4/4 [==============================] - 0s 17ms/step - loss: -1197.8920 - accuracy: 0.7204 - val_loss: -1286.9054 - val_accuracy: 0.6915\n"
          ]
        }
      ]
    },
    {
      "cell_type": "markdown",
      "source": [
        "TESTING THE MODEL"
      ],
      "metadata": {
        "id": "OqSpCsVlTw03"
      }
    },
    {
      "cell_type": "code",
      "source": [
        "#Age->Gender->Total_Bilrubin->Direct_Bilrubin*Alkaline_phosphotase->Alanin_aminotransferase->Asparate_aminotransferase\n",
        "model4.predict([[50,1,1.2,0.8,150,70,80,7.2,3.4,0.8]])"
      ],
      "metadata": {
        "colab": {
          "base_uri": "https://localhost:8080/"
        },
        "id": "LiOzC5MpO7VR",
        "outputId": "f11e10da-bffc-4338-a905-c1cee6e269cf"
      },
      "execution_count": 43,
      "outputs": [
        {
          "output_type": "stream",
          "name": "stderr",
          "text": [
            "/usr/local/lib/python3.9/dist-packages/sklearn/base.py:439: UserWarning: X does not have valid feature names, but DecisionTreeClassifier was fitted with feature names\n",
            "  warnings.warn(\n"
          ]
        },
        {
          "output_type": "execute_result",
          "data": {
            "text/plain": [
              "array([1])"
            ]
          },
          "metadata": {},
          "execution_count": 43
        }
      ]
    },
    {
      "cell_type": "code",
      "source": [
        "#Age->Gender->Total_Bilrubin->Direct_Bilrubin*Alkaline_phosphotase->Alanin_aminotransferase->Asparate_aminotransferase\n",
        "model1.predict([[50,1,1.2,0.8,150,70,80,7.2,3.4,0.8]])"
      ],
      "metadata": {
        "colab": {
          "base_uri": "https://localhost:8080/"
        },
        "id": "aPihGeASSALZ",
        "outputId": "04b6ee42-1e56-49d0-f08a-adf4c3cea6e7"
      },
      "execution_count": 44,
      "outputs": [
        {
          "output_type": "stream",
          "name": "stderr",
          "text": [
            "/usr/local/lib/python3.9/dist-packages/sklearn/base.py:439: UserWarning: X does not have valid feature names, but RandomForestClassifier was fitted with feature names\n",
            "  warnings.warn(\n"
          ]
        },
        {
          "output_type": "execute_result",
          "data": {
            "text/plain": [
              "array([1])"
            ]
          },
          "metadata": {},
          "execution_count": 44
        }
      ]
    },
    {
      "cell_type": "code",
      "source": [
        "#Age->Gender->Total_Bilrubin->Direct_Bilrubin*Alkaline_phosphotase->Alanin_aminotransferase->Asparate_aminotransferase\n",
        "model2.predict([[50,1,1.2,0.8,150,70,80,7.2,3.4,0.8]])"
      ],
      "metadata": {
        "colab": {
          "base_uri": "https://localhost:8080/"
        },
        "id": "9k-7OviwSGJq",
        "outputId": "cfa3877c-3d37-4840-cd4f-e6d4d5a12d83"
      },
      "execution_count": 45,
      "outputs": [
        {
          "output_type": "stream",
          "name": "stderr",
          "text": [
            "/usr/local/lib/python3.9/dist-packages/sklearn/base.py:439: UserWarning: X does not have valid feature names, but KNeighborsClassifier was fitted with feature names\n",
            "  warnings.warn(\n"
          ]
        },
        {
          "output_type": "execute_result",
          "data": {
            "text/plain": [
              "array([1])"
            ]
          },
          "metadata": {},
          "execution_count": 45
        }
      ]
    },
    {
      "cell_type": "code",
      "source": [
        "#Age->Gender->Total_Bilrubin->Direct_Bilrubin*Alkaline_phosphotase->Alanin_aminotransferase->Asparate_aminotransferase\n",
        "model5.predict([[42,0,1.2,0.8,240,70,80,7.2,3.4,0.8]])"
      ],
      "metadata": {
        "id": "GxeoTq6IRQJu",
        "colab": {
          "base_uri": "https://localhost:8080/"
        },
        "outputId": "33be75d0-ac36-44c7-a9c3-c88d97e79a5b"
      },
      "execution_count": 46,
      "outputs": [
        {
          "output_type": "stream",
          "name": "stderr",
          "text": [
            "/usr/local/lib/python3.9/dist-packages/sklearn/base.py:439: UserWarning: X does not have valid feature names, but LogisticRegression was fitted with feature names\n",
            "  warnings.warn(\n"
          ]
        },
        {
          "output_type": "execute_result",
          "data": {
            "text/plain": [
              "array([1])"
            ]
          },
          "metadata": {},
          "execution_count": 46
        }
      ]
    },
    {
      "cell_type": "code",
      "source": [
        "y_predict = (y_predict > 0.5)\n",
        "y_predict"
      ],
      "metadata": {
        "colab": {
          "base_uri": "https://localhost:8080/"
        },
        "id": "8VsGM9tfD_rj",
        "outputId": "896b4bc0-c503-41fc-ef1e-0c0c5c905823"
      },
      "execution_count": 47,
      "outputs": [
        {
          "output_type": "execute_result",
          "data": {
            "text/plain": [
              "array([ True,  True,  True,  True,  True,  True,  True,  True,  True,\n",
              "        True,  True,  True,  True,  True,  True,  True,  True,  True,\n",
              "        True,  True,  True,  True,  True,  True,  True,  True,  True,\n",
              "        True,  True,  True,  True,  True,  True,  True,  True,  True,\n",
              "        True,  True,  True,  True,  True,  True,  True,  True,  True,\n",
              "        True,  True,  True,  True,  True,  True,  True,  True,  True,\n",
              "        True,  True,  True,  True,  True,  True,  True,  True,  True,\n",
              "        True,  True,  True,  True,  True,  True,  True,  True,  True,\n",
              "        True,  True,  True,  True,  True,  True,  True,  True,  True,\n",
              "        True,  True,  True,  True,  True,  True,  True,  True,  True,\n",
              "        True,  True,  True,  True,  True,  True,  True,  True,  True,\n",
              "        True,  True,  True,  True,  True,  True,  True,  True,  True,\n",
              "        True,  True,  True,  True,  True,  True,  True,  True,  True])"
            ]
          },
          "metadata": {},
          "execution_count": 47
        }
      ]
    },
    {
      "cell_type": "code",
      "source": [
        "def predict_exit(sample_value):\n",
        "  #convert list to numpy array\n",
        "  sample_value = np.array(sample_value)\n",
        "  #Reshape because sample_valuecontains only 1 record\n",
        "  sample_value = sample_value.reshape(1,-1)\n",
        "  #feature scaling\n",
        "  sample_value = scale(sample_value)\n",
        "  return classifier.predict(sample_value)"
      ],
      "metadata": {
        "id": "MKKXw6v1EYBz"
      },
      "execution_count": 48,
      "outputs": []
    },
    {
      "cell_type": "code",
      "source": [
        "#Age->Gender->Total_Bilrubin->Direct_Bilrubin*Alkaline_phosphotase->Alanin_aminotransferase->Asparate_aminotransferase\n",
        "sample_value = [[50,1,1.2,0.8,150,70,80,7.2,3.4,0.8]]\n",
        "if predict_exit(sample_value) > 0.5:\n",
        "  print('prediction: Liver Patient')\n",
        "else:\n",
        "  print('Prediction: healthy')"
      ],
      "metadata": {
        "colab": {
          "base_uri": "https://localhost:8080/"
        },
        "id": "HOMsV0sjFpT1",
        "outputId": "2852191e-6ef2-47a6-bce0-af83cb9a59a4"
      },
      "execution_count": 49,
      "outputs": [
        {
          "output_type": "stream",
          "name": "stdout",
          "text": [
            "1/1 [==============================] - 0s 87ms/step\n",
            "prediction: Liver Patient\n"
          ]
        }
      ]
    },
    {
      "cell_type": "markdown",
      "source": [
        "PERFORMANCE TESTING AND HYPERPARAMETER TUNING"
      ],
      "metadata": {
        "id": "eq93eb4HT8_7"
      }
    },
    {
      "cell_type": "markdown",
      "source": [
        "TESTING MODEL WITH MULTIPLE EVALUTION METRICS\n",
        "             It can provide a more comprehensive understanding of the model's strengths and weakness"
      ],
      "metadata": {
        "id": "n-FQU8SuUIeA"
      }
    },
    {
      "cell_type": "code",
      "source": [
        "#Compare The Model\n",
        "acc_smote = [['KNN Classifier',knn1],['RandomForestClassifier',rfc1],['DecisionTreeClassifier',dtc1],['LogisticRegression',logi1]]\n",
        "Liverpatient_pred = pd.DataFrame(acc_smote,columns = ['classification models','accuracy_score'])\n",
        "Liverpatient_pred"
      ],
      "metadata": {
        "colab": {
          "base_uri": "https://localhost:8080/",
          "height": 175
        },
        "id": "TtMBQuN3GrvF",
        "outputId": "036a9101-9601-430b-f9e1-90e5906084f7"
      },
      "execution_count": 50,
      "outputs": [
        {
          "output_type": "execute_result",
          "data": {
            "text/plain": [
              "    classification models  accuracy_score\n",
              "0          KNN Classifier        0.512821\n",
              "1  RandomForestClassifier        0.606838\n",
              "2  DecisionTreeClassifier        0.700855\n",
              "3      LogisticRegression        0.666667"
            ],
            "text/html": [
              "\n",
              "  <div id=\"df-228846a5-d2b2-4658-8f25-5da549ee1d35\">\n",
              "    <div class=\"colab-df-container\">\n",
              "      <div>\n",
              "<style scoped>\n",
              "    .dataframe tbody tr th:only-of-type {\n",
              "        vertical-align: middle;\n",
              "    }\n",
              "\n",
              "    .dataframe tbody tr th {\n",
              "        vertical-align: top;\n",
              "    }\n",
              "\n",
              "    .dataframe thead th {\n",
              "        text-align: right;\n",
              "    }\n",
              "</style>\n",
              "<table border=\"1\" class=\"dataframe\">\n",
              "  <thead>\n",
              "    <tr style=\"text-align: right;\">\n",
              "      <th></th>\n",
              "      <th>classification models</th>\n",
              "      <th>accuracy_score</th>\n",
              "    </tr>\n",
              "  </thead>\n",
              "  <tbody>\n",
              "    <tr>\n",
              "      <th>0</th>\n",
              "      <td>KNN Classifier</td>\n",
              "      <td>0.512821</td>\n",
              "    </tr>\n",
              "    <tr>\n",
              "      <th>1</th>\n",
              "      <td>RandomForestClassifier</td>\n",
              "      <td>0.606838</td>\n",
              "    </tr>\n",
              "    <tr>\n",
              "      <th>2</th>\n",
              "      <td>DecisionTreeClassifier</td>\n",
              "      <td>0.700855</td>\n",
              "    </tr>\n",
              "    <tr>\n",
              "      <th>3</th>\n",
              "      <td>LogisticRegression</td>\n",
              "      <td>0.666667</td>\n",
              "    </tr>\n",
              "  </tbody>\n",
              "</table>\n",
              "</div>\n",
              "      <button class=\"colab-df-convert\" onclick=\"convertToInteractive('df-228846a5-d2b2-4658-8f25-5da549ee1d35')\"\n",
              "              title=\"Convert this dataframe to an interactive table.\"\n",
              "              style=\"display:none;\">\n",
              "        \n",
              "  <svg xmlns=\"http://www.w3.org/2000/svg\" height=\"24px\"viewBox=\"0 0 24 24\"\n",
              "       width=\"24px\">\n",
              "    <path d=\"M0 0h24v24H0V0z\" fill=\"none\"/>\n",
              "    <path d=\"M18.56 5.44l.94 2.06.94-2.06 2.06-.94-2.06-.94-.94-2.06-.94 2.06-2.06.94zm-11 1L8.5 8.5l.94-2.06 2.06-.94-2.06-.94L8.5 2.5l-.94 2.06-2.06.94zm10 10l.94 2.06.94-2.06 2.06-.94-2.06-.94-.94-2.06-.94 2.06-2.06.94z\"/><path d=\"M17.41 7.96l-1.37-1.37c-.4-.4-.92-.59-1.43-.59-.52 0-1.04.2-1.43.59L10.3 9.45l-7.72 7.72c-.78.78-.78 2.05 0 2.83L4 21.41c.39.39.9.59 1.41.59.51 0 1.02-.2 1.41-.59l7.78-7.78 2.81-2.81c.8-.78.8-2.07 0-2.86zM5.41 20L4 18.59l7.72-7.72 1.47 1.35L5.41 20z\"/>\n",
              "  </svg>\n",
              "      </button>\n",
              "      \n",
              "  <style>\n",
              "    .colab-df-container {\n",
              "      display:flex;\n",
              "      flex-wrap:wrap;\n",
              "      gap: 12px;\n",
              "    }\n",
              "\n",
              "    .colab-df-convert {\n",
              "      background-color: #E8F0FE;\n",
              "      border: none;\n",
              "      border-radius: 50%;\n",
              "      cursor: pointer;\n",
              "      display: none;\n",
              "      fill: #1967D2;\n",
              "      height: 32px;\n",
              "      padding: 0 0 0 0;\n",
              "      width: 32px;\n",
              "    }\n",
              "\n",
              "    .colab-df-convert:hover {\n",
              "      background-color: #E2EBFA;\n",
              "      box-shadow: 0px 1px 2px rgba(60, 64, 67, 0.3), 0px 1px 3px 1px rgba(60, 64, 67, 0.15);\n",
              "      fill: #174EA6;\n",
              "    }\n",
              "\n",
              "    [theme=dark] .colab-df-convert {\n",
              "      background-color: #3B4455;\n",
              "      fill: #D2E3FC;\n",
              "    }\n",
              "\n",
              "    [theme=dark] .colab-df-convert:hover {\n",
              "      background-color: #434B5C;\n",
              "      box-shadow: 0px 1px 3px 1px rgba(0, 0, 0, 0.15);\n",
              "      filter: drop-shadow(0px 1px 2px rgba(0, 0, 0, 0.3));\n",
              "      fill: #FFFFFF;\n",
              "    }\n",
              "  </style>\n",
              "\n",
              "      <script>\n",
              "        const buttonEl =\n",
              "          document.querySelector('#df-228846a5-d2b2-4658-8f25-5da549ee1d35 button.colab-df-convert');\n",
              "        buttonEl.style.display =\n",
              "          google.colab.kernel.accessAllowed ? 'block' : 'none';\n",
              "\n",
              "        async function convertToInteractive(key) {\n",
              "          const element = document.querySelector('#df-228846a5-d2b2-4658-8f25-5da549ee1d35');\n",
              "          const dataTable =\n",
              "            await google.colab.kernel.invokeFunction('convertToInteractive',\n",
              "                                                     [key], {});\n",
              "          if (!dataTable) return;\n",
              "\n",
              "          const docLinkHtml = 'Like what you see? Visit the ' +\n",
              "            '<a target=\"_blank\" href=https://colab.research.google.com/notebooks/data_table.ipynb>data table notebook</a>'\n",
              "            + ' to learn more about interactive tables.';\n",
              "          element.innerHTML = '';\n",
              "          dataTable['output_type'] = 'display_data';\n",
              "          await google.colab.output.renderOutput(dataTable, element);\n",
              "          const docLink = document.createElement('div');\n",
              "          docLink.innerHTML = docLinkHtml;\n",
              "          element.appendChild(docLink);\n",
              "        }\n",
              "      </script>\n",
              "    </div>\n",
              "  </div>\n",
              "  "
            ]
          },
          "metadata": {},
          "execution_count": 50
        }
      ]
    },
    {
      "cell_type": "code",
      "source": [
        "plt.figure(figsize = (7,5))\n",
        "plt.xticks(rotation=90)\n",
        "plt.title('classification models and accuracy scores after SMOTE',fontsize = 18)\n",
        "sns.barplot(x = \"classification models\",y = \"accuracy_score\",data = Liverpatient_pred,palette = \"Set2\")"
      ],
      "metadata": {
        "colab": {
          "base_uri": "https://localhost:8080/",
          "height": 677
        },
        "id": "0IMYOCZEIBLz",
        "outputId": "b10b5f98-0206-44a2-cdcd-2f11b948b42e"
      },
      "execution_count": 51,
      "outputs": [
        {
          "output_type": "execute_result",
          "data": {
            "text/plain": [
              "<Axes: title={'center': 'classification models and accuracy scores after SMOTE'}, xlabel='classification models', ylabel='accuracy_score'>"
            ]
          },
          "metadata": {},
          "execution_count": 51
        },
        {
          "output_type": "display_data",
          "data": {
            "text/plain": [
              "<Figure size 700x500 with 1 Axes>"
            ],
            "image/png": "[encoded data removed]"
          },
          "metadata": {}
        }
      ]
    },
    {
      "cell_type": "code",
      "source": [
        "from sklearn.ensemble import ExtraTreesClassifier\n",
        "model = ExtraTreesClassifier()\n",
        "model.fit(x,y)"
      ],
      "metadata": {
        "colab": {
          "base_uri": "https://localhost:8080/",
          "height": 75
        },
        "id": "VNKu_ZJML-Tc",
        "outputId": "8ef8b011-903f-4fb5-801d-a1b56ce7034a"
      },
      "execution_count": 52,
      "outputs": [
        {
          "output_type": "execute_result",
          "data": {
            "text/plain": [
              "ExtraTreesClassifier()"
            ],
            "text/html": [
              "<style>#sk-container-id-1 {color: black;background-color: white;}#sk-container-id-1 pre{padding: 0;}#sk-container-id-1 div.sk-toggleable {background-color: white;}#sk-container-id-1 label.sk-toggleable__label {cursor: pointer;display: block;width: 100%;margin-bottom: 0;padding: 0.3em;box-sizing: border-box;text-align: center;}#sk-container-id-1 label.sk-toggleable__label-arrow:before {content: \"▸\";float: left;margin-right: 0.25em;color: #696969;}#sk-container-id-1 label.sk-toggleable__label-arrow:hover:before {color: black;}#sk-container-id-1 div.sk-estimator:hover label.sk-toggleable__label-arrow:before {color: black;}#sk-container-id-1 div.sk-toggleable__content {max-height: 0;max-width: 0;overflow: hidden;text-align: left;background-color: #f0f8ff;}#sk-container-id-1 div.sk-toggleable__content pre {margin: 0.2em;color: black;border-radius: 0.25em;background-color: #f0f8ff;}#sk-container-id-1 input.sk-toggleable__control:checked~div.sk-toggleable__content {max-height: 200px;max-width: 100%;overflow: auto;}#sk-container-id-1 input.sk-toggleable__control:checked~label.sk-toggleable__label-arrow:before {content: \"▾\";}#sk-container-id-1 div.sk-estimator input.sk-toggleable__control:checked~label.sk-toggleable__label {background-color: #d4ebff;}#sk-container-id-1 div.sk-label input.sk-toggleable__control:checked~label.sk-toggleable__label {background-color: #d4ebff;}#sk-container-id-1 input.sk-hidden--visually {border: 0;clip: rect(1px 1px 1px 1px);clip: rect(1px, 1px, 1px, 1px);height: 1px;margin: -1px;overflow: hidden;padding: 0;position: absolute;width: 1px;}#sk-container-id-1 div.sk-estimator {font-family: monospace;background-color: #f0f8ff;border: 1px dotted black;border-radius: 0.25em;box-sizing: border-box;margin-bottom: 0.5em;}#sk-container-id-1 div.sk-estimator:hover {background-color: #d4ebff;}#sk-container-id-1 div.sk-parallel-item::after {content: \"\";width: 100%;border-bottom: 1px solid gray;flex-grow: 1;}#sk-container-id-1 div.sk-label:hover label.sk-toggleable__label {background-color: #d4ebff;}#sk-container-id-1 div.sk-serial::before {content: \"\";position: absolute;border-left: 1px solid gray;box-sizing: border-box;top: 0;bottom: 0;left: 50%;z-index: 0;}#sk-container-id-1 div.sk-serial {display: flex;flex-direction: column;align-items: center;background-color: white;padding-right: 0.2em;padding-left: 0.2em;position: relative;}#sk-container-id-1 div.sk-item {position: relative;z-index: 1;}#sk-container-id-1 div.sk-parallel {display: flex;align-items: stretch;justify-content: center;background-color: white;position: relative;}#sk-container-id-1 div.sk-item::before, #sk-container-id-1 div.sk-parallel-item::before {content: \"\";position: absolute;border-left: 1px solid gray;box-sizing: border-box;top: 0;bottom: 0;left: 50%;z-index: -1;}#sk-container-id-1 div.sk-parallel-item {display: flex;flex-direction: column;z-index: 1;position: relative;background-color: white;}#sk-container-id-1 div.sk-parallel-item:first-child::after {align-self: flex-end;width: 50%;}#sk-container-id-1 div.sk-parallel-item:last-child::after {align-self: flex-start;width: 50%;}#sk-container-id-1 div.sk-parallel-item:only-child::after {width: 0;}#sk-container-id-1 div.sk-dashed-wrapped {border: 1px dashed gray;margin: 0 0.4em 0.5em 0.4em;box-sizing: border-box;padding-bottom: 0.4em;background-color: white;}#sk-container-id-1 div.sk-label label {font-family: monospace;font-weight: bold;display: inline-block;line-height: 1.2em;}#sk-container-id-1 div.sk-label-container {text-align: center;}#sk-container-id-1 div.sk-container {/* jupyter's `normalize.less` sets `[hidden] { display: none; }` but bootstrap.min.css set `[hidden] { display: none !important; }` so we also need the `!important` here to be able to override the default hidden behavior on the sphinx rendered scikit-learn.org. See: https://github.com/scikit-learn/scikit-learn/issues/21755 */display: inline-block !important;position: relative;}#sk-container-id-1 div.sk-text-repr-fallback {display: none;}</style><div id=\"sk-container-id-1\" class=\"sk-top-container\"><div class=\"sk-text-repr-fallback\"><pre>ExtraTreesClassifier()</pre><b>In a Jupyter environment, please rerun this cell to show the HTML representation or trust the notebook. <br />On GitHub, the HTML representation is unable to render, please try loading this page with nbviewer.org.</b></div><div class=\"sk-container\" hidden><div class=\"sk-item\"><div class=\"sk-estimator sk-toggleable\"><input class=\"sk-toggleable__control sk-hidden--visually\" id=\"sk-estimator-id-1\" type=\"checkbox\" checked><label for=\"sk-estimator-id-1\" class=\"sk-toggleable__label sk-toggleable__label-arrow\">ExtraTreesClassifier</label><div class=\"sk-toggleable__content\"><pre>ExtraTreesClassifier()</pre></div></div></div></div></div>"
            ]
          },
          "metadata": {},
          "execution_count": 52
        }
      ]
    },
    {
      "cell_type": "code",
      "source": [
        "model.feature_importances_"
      ],
      "metadata": {
        "colab": {
          "base_uri": "https://localhost:8080/"
        },
        "id": "Ovzmmn6_MZan",
        "outputId": "63a2beb7-b5b7-4a73-b923-6538dcf630d6"
      },
      "execution_count": 53,
      "outputs": [
        {
          "output_type": "execute_result",
          "data": {
            "text/plain": [
              "array([0.11997537, 0.0246835 , 0.11302646, 0.10781847, 0.11793029,\n",
              "       0.11362811, 0.11458766, 0.09351796, 0.09571033, 0.09912186])"
            ]
          },
          "metadata": {},
          "execution_count": 53
        }
      ]
    },
    {
      "cell_type": "code",
      "source": [
        "dd = pd.DataFrame(model.feature_importances_,index = x.columns).sort_values(0,ascending = False)\n",
        "dd"
      ],
      "metadata": {
        "colab": {
          "base_uri": "https://localhost:8080/",
          "height": 363
        },
        "id": "CXF_lZyfMhU4",
        "outputId": "f2dae0b9-3131-4eb8-c370-d79c72aeb095"
      },
      "execution_count": 54,
      "outputs": [
        {
          "output_type": "execute_result",
          "data": {
            "text/plain": [
              "                                   0\n",
              "Age                         0.119975\n",
              "Alkaline_Phosphotase        0.117930\n",
              "Aspartate_Aminotransferase  0.114588\n",
              "Alamine_Aminotransferase    0.113628\n",
              "Total_Bilirubin             0.113026\n",
              "Direct_Bilirubin            0.107818\n",
              "Albumin_and_Globulin_Ratio  0.099122\n",
              "Albumin                     0.095710\n",
              "Total_Protiens              0.093518\n",
              "Gender                      0.024683"
            ],
            "text/html": [
              "\n",
              "  <div id=\"df-5f643bad-2122-4d70-b2b8-17aa3aa390e5\">\n",
              "    <div class=\"colab-df-container\">\n",
              "      <div>\n",
              "<style scoped>\n",
              "    .dataframe tbody tr th:only-of-type {\n",
              "        vertical-align: middle;\n",
              "    }\n",
              "\n",
              "    .dataframe tbody tr th {\n",
              "        vertical-align: top;\n",
              "    }\n",
              "\n",
              "    .dataframe thead th {\n",
              "        text-align: right;\n",
              "    }\n",
              "</style>\n",
              "<table border=\"1\" class=\"dataframe\">\n",
              "  <thead>\n",
              "    <tr style=\"text-align: right;\">\n",
              "      <th></th>\n",
              "      <th>0</th>\n",
              "    </tr>\n",
              "  </thead>\n",
              "  <tbody>\n",
              "    <tr>\n",
              "      <th>Age</th>\n",
              "      <td>0.119975</td>\n",
              "    </tr>\n",
              "    <tr>\n",
              "      <th>Alkaline_Phosphotase</th>\n",
              "      <td>0.117930</td>\n",
              "    </tr>\n",
              "    <tr>\n",
              "      <th>Aspartate_Aminotransferase</th>\n",
              "      <td>0.114588</td>\n",
              "    </tr>\n",
              "    <tr>\n",
              "      <th>Alamine_Aminotransferase</th>\n",
              "      <td>0.113628</td>\n",
              "    </tr>\n",
              "    <tr>\n",
              "      <th>Total_Bilirubin</th>\n",
              "      <td>0.113026</td>\n",
              "    </tr>\n",
              "    <tr>\n",
              "      <th>Direct_Bilirubin</th>\n",
              "      <td>0.107818</td>\n",
              "    </tr>\n",
              "    <tr>\n",
              "      <th>Albumin_and_Globulin_Ratio</th>\n",
              "      <td>0.099122</td>\n",
              "    </tr>\n",
              "    <tr>\n",
              "      <th>Albumin</th>\n",
              "      <td>0.095710</td>\n",
              "    </tr>\n",
              "    <tr>\n",
              "      <th>Total_Protiens</th>\n",
              "      <td>0.093518</td>\n",
              "    </tr>\n",
              "    <tr>\n",
              "      <th>Gender</th>\n",
              "      <td>0.024683</td>\n",
              "    </tr>\n",
              "  </tbody>\n",
              "</table>\n",
              "</div>\n",
              "      <button class=\"colab-df-convert\" onclick=\"convertToInteractive('df-5f643bad-2122-4d70-b2b8-17aa3aa390e5')\"\n",
              "              title=\"Convert this dataframe to an interactive table.\"\n",
              "              style=\"display:none;\">\n",
              "        \n",
              "  <svg xmlns=\"http://www.w3.org/2000/svg\" height=\"24px\"viewBox=\"0 0 24 24\"\n",
              "       width=\"24px\">\n",
              "    <path d=\"M0 0h24v24H0V0z\" fill=\"none\"/>\n",
              "    <path d=\"M18.56 5.44l.94 2.06.94-2.06 2.06-.94-2.06-.94-.94-2.06-.94 2.06-2.06.94zm-11 1L8.5 8.5l.94-2.06 2.06-.94-2.06-.94L8.5 2.5l-.94 2.06-2.06.94zm10 10l.94 2.06.94-2.06 2.06-.94-2.06-.94-.94-2.06-.94 2.06-2.06.94z\"/><path d=\"M17.41 7.96l-1.37-1.37c-.4-.4-.92-.59-1.43-.59-.52 0-1.04.2-1.43.59L10.3 9.45l-7.72 7.72c-.78.78-.78 2.05 0 2.83L4 21.41c.39.39.9.59 1.41.59.51 0 1.02-.2 1.41-.59l7.78-7.78 2.81-2.81c.8-.78.8-2.07 0-2.86zM5.41 20L4 18.59l7.72-7.72 1.47 1.35L5.41 20z\"/>\n",
              "  </svg>\n",
              "      </button>\n",
              "      \n",
              "  <style>\n",
              "    .colab-df-container {\n",
              "      display:flex;\n",
              "      flex-wrap:wrap;\n",
              "      gap: 12px;\n",
              "    }\n",
              "\n",
              "    .colab-df-convert {\n",
              "      background-color: #E8F0FE;\n",
              "      border: none;\n",
              "      border-radius: 50%;\n",
              "      cursor: pointer;\n",
              "      display: none;\n",
              "      fill: #1967D2;\n",
              "      height: 32px;\n",
              "      padding: 0 0 0 0;\n",
              "      width: 32px;\n",
              "    }\n",
              "\n",
              "    .colab-df-convert:hover {\n",
              "      background-color: #E2EBFA;\n",
              "      box-shadow: 0px 1px 2px rgba(60, 64, 67, 0.3), 0px 1px 3px 1px rgba(60, 64, 67, 0.15);\n",
              "      fill: #174EA6;\n",
              "    }\n",
              "\n",
              "    [theme=dark] .colab-df-convert {\n",
              "      background-color: #3B4455;\n",
              "      fill: #D2E3FC;\n",
              "    }\n",
              "\n",
              "    [theme=dark] .colab-df-convert:hover {\n",
              "      background-color: #434B5C;\n",
              "      box-shadow: 0px 1px 3px 1px rgba(0, 0, 0, 0.15);\n",
              "      filter: drop-shadow(0px 1px 2px rgba(0, 0, 0, 0.3));\n",
              "      fill: #FFFFFF;\n",
              "    }\n",
              "  </style>\n",
              "\n",
              "      <script>\n",
              "        const buttonEl =\n",
              "          document.querySelector('#df-5f643bad-2122-4d70-b2b8-17aa3aa390e5 button.colab-df-convert');\n",
              "        buttonEl.style.display =\n",
              "          google.colab.kernel.accessAllowed ? 'block' : 'none';\n",
              "\n",
              "        async function convertToInteractive(key) {\n",
              "          const element = document.querySelector('#df-5f643bad-2122-4d70-b2b8-17aa3aa390e5');\n",
              "          const dataTable =\n",
              "            await google.colab.kernel.invokeFunction('convertToInteractive',\n",
              "                                                     [key], {});\n",
              "          if (!dataTable) return;\n",
              "\n",
              "          const docLinkHtml = 'Like what you see? Visit the ' +\n",
              "            '<a target=\"_blank\" href=https://colab.research.google.com/notebooks/data_table.ipynb>data table notebook</a>'\n",
              "            + ' to learn more about interactive tables.';\n",
              "          element.innerHTML = '';\n",
              "          dataTable['output_type'] = 'display_data';\n",
              "          await google.colab.output.renderOutput(dataTable, element);\n",
              "          const docLink = document.createElement('div');\n",
              "          docLink.innerHTML = docLinkHtml;\n",
              "          element.appendChild(docLink);\n",
              "        }\n",
              "      </script>\n",
              "    </div>\n",
              "  </div>\n",
              "  "
            ]
          },
          "metadata": {},
          "execution_count": 54
        }
      ]
    },
    {
      "cell_type": "code",
      "source": [
        "#Identifying Important Features\n",
        "dd.plot(kind = 'barh',figsize = (7,6))\n",
        "plt.title(\"FEATURE IMPORTANCE\",fontsize = 14)"
      ],
      "metadata": {
        "colab": {
          "base_uri": "https://localhost:8080/",
          "height": 563
        },
        "id": "UVvQImRaNF9Q",
        "outputId": "b201f9d1-97e5-405f-d346-6bbfbebf6ce8"
      },
      "execution_count": 55,
      "outputs": [
        {
          "output_type": "execute_result",
          "data": {
            "text/plain": [
              "Text(0.5, 1.0, 'FEATURE IMPORTANCE')"
            ]
          },
          "metadata": {},
          "execution_count": 55
        },
        {
          "output_type": "display_data",
          "data": {
            "text/plain": [
              "<Figure size 700x600 with 1 Axes>"
            ],
            "image/png": "[encoded data removed]"
          },
          "metadata": {}
        }
      ]
    },
    {
      "cell_type": "code",
      "source": [
        "#Save The Best Model\n",
        "import joblib\n",
        "joblib.dump(model4, 'ETC.pk1')"
      ],
      "metadata": {
        "colab": {
          "base_uri": "https://localhost:8080/"
        },
        "id": "giy-rpJYyOuX",
        "outputId": "075399f6-e47a-4e97-c91d-bcf226a85a7e"
      },
      "execution_count": 56,
      "outputs": [
        {
          "output_type": "execute_result",
          "data": {
            "text/plain": [
              "['ETC.pk1']"
            ]
          },
          "metadata": {},
          "execution_count": 56
        }
      ]
    }
  ]
}